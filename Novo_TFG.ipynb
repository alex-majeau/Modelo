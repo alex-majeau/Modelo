{
  "nbformat": 4,
  "nbformat_minor": 0,
  "metadata": {
    "colab": {
      "name": "Novo_TFG.ipynb",
      "provenance": [],
      "collapsed_sections": [],
      "machine_shape": "hm",
      "include_colab_link": true
    },
    "kernelspec": {
      "name": "python3",
      "display_name": "Python 3"
    },
    "accelerator": "TPU"
  },
  "cells": [
    {
      "cell_type": "markdown",
      "metadata": {
        "id": "view-in-github",
        "colab_type": "text"
      },
      "source": [
        "<a href=\"https://colab.research.google.com/github/alex-majeau/Modelo/blob/main/Novo_TFG.ipynb\" target=\"_parent\"><img src=\"https://colab.research.google.com/assets/colab-badge.svg\" alt=\"Open In Colab\"/></a>"
      ]
    },
    {
      "cell_type": "code",
      "metadata": {
        "id": "htl8IgRvjahR",
        "outputId": "52371dac-e9b7-4934-f758-56d74a15239c",
        "colab": {
          "base_uri": "https://localhost:8080/"
        }
      },
      "source": [
        "!rm -rf /content/*"
      ],
      "execution_count": 16,
      "outputs": [
        {
          "output_type": "stream",
          "text": [
            "rm: cannot remove '/content/gdrive/My Drive': Operation canceled\n",
            "rm: cannot remove '/content/gdrive/.shortcut-targets-by-id': Operation canceled\n"
          ],
          "name": "stdout"
        }
      ]
    },
    {
      "cell_type": "code",
      "metadata": {
        "id": "P54dGJmvZ3zA",
        "outputId": "4615b09f-d7c7-4f43-82e4-075d1a0ba1d5",
        "colab": {
          "base_uri": "https://localhost:8080/"
        }
      },
      "source": [
        "!git clone https://github.com/GalAvineri/ISIC-Archive-Downloader"
      ],
      "execution_count": 17,
      "outputs": [
        {
          "output_type": "stream",
          "text": [
            "Cloning into 'ISIC-Archive-Downloader'...\n",
            "remote: Enumerating objects: 4, done.\u001b[K\n",
            "remote: Counting objects: 100% (4/4), done.\u001b[K\n",
            "remote: Compressing objects: 100% (4/4), done.\u001b[K\n",
            "remote: Total 292 (delta 0), reused 0 (delta 0), pack-reused 288\u001b[K\n",
            "Receiving objects: 100% (292/292), 75.17 KiB | 6.83 MiB/s, done.\n",
            "Resolving deltas: 100% (175/175), done.\n"
          ],
          "name": "stdout"
        }
      ]
    },
    {
      "cell_type": "code",
      "metadata": {
        "id": "XU0gptiOEpBo",
        "outputId": "8f98fb9a-f63f-434b-f6a2-65e37c261b17",
        "colab": {
          "base_uri": "https://localhost:8080/",
          "height": 173
        }
      },
      "source": [
        "!pip install -r /content/ISIC-Archive-Downloader/requirements.txt\n",
        "\"\"\"!nvidia-smi\n",
        "import torch\n",
        "torch.cuda.is_available()\"\"\""
      ],
      "execution_count": 18,
      "outputs": [
        {
          "output_type": "stream",
          "text": [
            "Requirement already satisfied: requests in /usr/local/lib/python3.6/dist-packages (from -r /content/ISIC-Archive-Downloader/requirements.txt (line 1)) (2.23.0)\n",
            "Requirement already satisfied: Pillow in /usr/local/lib/python3.6/dist-packages (from -r /content/ISIC-Archive-Downloader/requirements.txt (line 2)) (7.0.0)\n",
            "Requirement already satisfied: tqdm in /usr/local/lib/python3.6/dist-packages (from -r /content/ISIC-Archive-Downloader/requirements.txt (line 3)) (4.41.1)\n",
            "Requirement already satisfied: urllib3!=1.25.0,!=1.25.1,<1.26,>=1.21.1 in /usr/local/lib/python3.6/dist-packages (from requests->-r /content/ISIC-Archive-Downloader/requirements.txt (line 1)) (1.24.3)\n",
            "Requirement already satisfied: idna<3,>=2.5 in /usr/local/lib/python3.6/dist-packages (from requests->-r /content/ISIC-Archive-Downloader/requirements.txt (line 1)) (2.10)\n",
            "Requirement already satisfied: certifi>=2017.4.17 in /usr/local/lib/python3.6/dist-packages (from requests->-r /content/ISIC-Archive-Downloader/requirements.txt (line 1)) (2020.6.20)\n",
            "Requirement already satisfied: chardet<4,>=3.0.2 in /usr/local/lib/python3.6/dist-packages (from requests->-r /content/ISIC-Archive-Downloader/requirements.txt (line 1)) (3.0.4)\n"
          ],
          "name": "stdout"
        },
        {
          "output_type": "execute_result",
          "data": {
            "application/vnd.google.colaboratory.intrinsic+json": {
              "type": "string"
            },
            "text/plain": [
              "'!nvidia-smi\\nimport torch\\ntorch.cuda.is_available()'"
            ]
          },
          "metadata": {
            "tags": []
          },
          "execution_count": 18
        }
      ]
    },
    {
      "cell_type": "code",
      "metadata": {
        "id": "g3ssQTkkkO56",
        "outputId": "a1997809-0936-4a88-a723-4deb3a5118aa",
        "colab": {
          "base_uri": "https://localhost:8080/"
        }
      },
      "source": [
        "from google.colab import drive\n",
        "drive.mount('/content/gdrive')"
      ],
      "execution_count": 19,
      "outputs": [
        {
          "output_type": "stream",
          "text": [
            "Drive already mounted at /content/gdrive; to attempt to forcibly remount, call drive.mount(\"/content/gdrive\", force_remount=True).\n"
          ],
          "name": "stdout"
        }
      ]
    },
    {
      "cell_type": "code",
      "metadata": {
        "id": "Od55ECQcdR2T",
        "outputId": "f7e7ff4c-962a-424c-f617-c98b12a105c4",
        "colab": {
          "base_uri": "https://localhost:8080/"
        }
      },
      "source": [
        "import os\n",
        "try:\n",
        "  num_pics = len([name for name in os.listdir('/content/gdrive/My Drive/Colab Notebooks/isic/images/')])\n",
        "except:\n",
        "  num_pics = 0\n",
        "\n",
        "try:\n",
        "  num_descs = len([name for name in os.listdir('/content/gdrive/My Drive/Colab Notebooks/isic/descs/')])\n",
        "except:\n",
        "  num_descs = 0\n",
        "\n",
        "if (num_pics < 23000 or num_descs < 23000):\n",
        "  print('{} images found. Expected at least 23k.\\n{} descs found. Expected at least 23k.'.format(num_pics, num_descs))\n",
        "  !rm -rf gdrive/My\\ Drive/Colab\\ Notebooks/isic/images/\n",
        "  !python ./ISIC-Archive-Downloader/download_archive.py --images-dir gdrive/My\\ Drive/Colab\\ Notebooks/isic/images --descs-dir gdrive/My\\ Drive/Colab\\ Notebooks/isic/descs\n",
        "else:\n",
        "  print('{} images found.\\n{} descs found.'.format(num_pics, num_descs))"
      ],
      "execution_count": 20,
      "outputs": [
        {
          "output_type": "stream",
          "text": [
            "0 images found. Expected at least 23k.\n",
            "0 descs found. Expected at least 23k.\n",
            "You have decided to do the following:\n",
            "Download all the available elements\n",
            "start with offset 0\n",
            "Use no filter (both benign and malignant)\n",
            "Descriptions will be downloaded to /content/gdrive/My Drive/Colab Notebooks/isic/descs\n",
            "Images will be downloaded to /content/gdrive/My Drive/Colab Notebooks/isic/images\n",
            "Use 16 processes to download the archive\n",
            "Do you confirm your choices? [Y/n] y\n",
            "Collecting the images ids\n",
            "Found 23906 images\n",
            "Downloading Descriptions:  61% 14491/23906 [03:10<02:19, 67.55it/s]\n",
            "\n",
            "During handling of the above exception, another exception occurred:\n",
            "\n",
            "Traceback (most recent call last):\n",
            "  File \"./ISIC-Archive-Downloader/download_archive.py\", line 256, in <module>\n",
            "    main(sys.argv[1:])\n",
            "  File \"./ISIC-Archive-Downloader/download_archive.py\", line 250, in main\n",
            "    seg_skill=args.seg_skill, num_processes=args.p)\n",
            "  File \"./ISIC-Archive-Downloader/download_archive.py\", line 28, in download_archive\n",
            "    descriptions = download_descriptions(ids=ids, descs_dir=descs_dir, num_processes=num_processes)\n",
            "  File \"./ISIC-Archive-Downloader/download_archive.py\", line 103, in download_descriptions\n",
            "    descriptions = list(tqdm(pool.imap(imap_wrapper, zip(repeat(ImgDownloader.download_image_description), ids, repeat(descs_dir))), total=len(ids), desc='Downloading Descriptions'))\n",
            "  File \"/usr/local/lib/python3.6/dist-packages/tqdm/std.py\", line 1104, in __iter__\n",
            "    for obj in iterable:\n",
            "  File \"/usr/lib/python3.6/multiprocessing/pool.py\", line 724, in next\n",
            "    self._cond.wait(timeout)\n",
            "  File \"/usr/lib/python3.6/threading.py\", line 295, in wait\n",
            "    waiter.acquire()\n",
            "KeyboardInterrupt\n",
            "^C\n"
          ],
          "name": "stdout"
        }
      ]
    }
  ]
}